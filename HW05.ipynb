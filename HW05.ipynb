{
 "cells": [
  {
   "cell_type": "code",
   "execution_count": 3,
   "id": "5a236ba9",
   "metadata": {},
   "outputs": [
    {
     "name": "stdout",
     "output_type": "stream",
     "text": [
      "['For greater sharpness, but with a slight increase in graininess, you can use a 1:1 dilution of this developer.', 'He calls the Green Book, his book of teachings, “the new gospel.', 'And the light breeze moves me to caress her long ear', 'They have the blood of martyrs is the White to flow …', \"Finally, the Lakers head to the Motor City to take on a Pistons team that currently owns the Eastern Conference's second best record (1/31). L.\"]\n",
      "['为了更好的锐度，但是附带的会多一些颗粒度，可以使用这个显影剂的1：1稀释液。', '他还把宣扬自己思想的所谓《绿皮书》称作“新福音书”。', '微风推着我去爱抚它的长耳朵', '它们的先烈们的鲜血是白流了…', '最后，在1月31日，湖人将前往汽车城底特律挑战活塞队，活塞近来在东部排名第二。']\n"
     ]
    }
   ],
   "source": [
    "from __future__ import print_function\n",
    "from keras.models import Model\n",
    "from keras.layers import Input, LSTM, Dense\n",
    "import numpy as np\n",
    "import re\n",
    "import json\n",
    "\n",
    "batch_size = 64  # Batch size for training.\n",
    "epochs = 100  # Number of epochs to train for.\n",
    "latent_dim = 256  # Latent dimensionality of the encoding space.\n",
    "num_samples = 5200000  # Number of samples to train on.\n",
    "data_path = 'translation2019zh/translation2019zh_train.json'\n",
    "\n",
    "# Vectorize the data.\n",
    "input_texts = []\n",
    "target_texts = []\n",
    "input_characters = set()\n",
    "target_characters = set()\n",
    "with open(data_path, \"r\", encoding = \"utf-8\") as f:\n",
    "    data = f.readlines()[0:5]\n",
    "    temp = []\n",
    "    for d in data:\n",
    "        temp = json.loads(d)\n",
    "        input_text = temp['english']\n",
    "        target_text = temp['chinese']\n",
    "        input_texts.append(input_text)\n",
    "        target_texts.append(target_text)\n",
    "        for char in input_text:\n",
    "            if char not in input_characters:\n",
    "                input_characters.add(char)\n",
    "        for char in target_text:\n",
    "            if char not in target_characters:\n",
    "                target_characters.add(char)\n",
    "print(input_texts)\n",
    "print(target_texts )"
   ]
  },
  {
   "cell_type": "code",
   "execution_count": null,
   "id": "c581e5f9",
   "metadata": {},
   "outputs": [],
   "source": []
  }
 ],
 "metadata": {
  "kernelspec": {
   "display_name": "Python 3 (ipykernel)",
   "language": "python",
   "name": "python3"
  },
  "language_info": {
   "codemirror_mode": {
    "name": "ipython",
    "version": 3
   },
   "file_extension": ".py",
   "mimetype": "text/x-python",
   "name": "python",
   "nbconvert_exporter": "python",
   "pygments_lexer": "ipython3",
   "version": "3.9.6"
  }
 },
 "nbformat": 4,
 "nbformat_minor": 5
}
